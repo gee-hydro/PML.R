{
  "nbformat": 4,
  "nbformat_minor": 0,
  "metadata": {
    "colab": {
      "provenance": []
    },
    "kernelspec": {
      "name": "python3",
      "display_name": "Python 3"
    },
    "language_info": {
      "name": "python"
    }
  },
  "cells": [
    {
      "cell_type": "code",
      "execution_count": 1,
      "metadata": {
        "colab": {
          "base_uri": "https://localhost:8080/"
        },
        "id": "AlSmK3aPgHol",
        "outputId": "1cea4b9a-3d06-422a-b91f-a525a1d4823a"
      },
      "outputs": [
        {
          "output_type": "stream",
          "name": "stdout",
          "text": [
            "Looking in indexes: https://pypi.org/simple, https://us-python.pkg.dev/colab-wheels/public/simple/\n",
            "Collecting geopandas\n",
            "  Downloading geopandas-0.12.2-py3-none-any.whl (1.1 MB)\n",
            "\u001b[K     |████████████████████████████████| 1.1 MB 4.0 MB/s \n",
            "\u001b[?25hRequirement already satisfied: shapely>=1.7 in /usr/local/lib/python3.8/dist-packages (from geopandas) (1.8.5.post1)\n",
            "Collecting pyproj>=2.6.1.post1\n",
            "  Downloading pyproj-3.4.0-cp38-cp38-manylinux_2_17_x86_64.manylinux2014_x86_64.whl (7.8 MB)\n",
            "\u001b[K     |████████████████████████████████| 7.8 MB 26.7 MB/s \n",
            "\u001b[?25hRequirement already satisfied: pandas>=1.0.0 in /usr/local/lib/python3.8/dist-packages (from geopandas) (1.3.5)\n",
            "Requirement already satisfied: packaging in /usr/local/lib/python3.8/dist-packages (from geopandas) (21.3)\n",
            "Collecting fiona>=1.8\n",
            "  Downloading Fiona-1.8.22-cp38-cp38-manylinux_2_17_x86_64.manylinux2014_x86_64.whl (16.6 MB)\n",
            "\u001b[K     |████████████████████████████████| 16.6 MB 116 kB/s \n",
            "\u001b[?25hRequirement already satisfied: certifi in /usr/local/lib/python3.8/dist-packages (from fiona>=1.8->geopandas) (2022.9.24)\n",
            "Requirement already satisfied: attrs>=17 in /usr/local/lib/python3.8/dist-packages (from fiona>=1.8->geopandas) (22.1.0)\n",
            "Collecting click-plugins>=1.0\n",
            "  Downloading click_plugins-1.1.1-py2.py3-none-any.whl (7.5 kB)\n",
            "Requirement already satisfied: six>=1.7 in /usr/local/lib/python3.8/dist-packages (from fiona>=1.8->geopandas) (1.15.0)\n",
            "Requirement already satisfied: setuptools in /usr/local/lib/python3.8/dist-packages (from fiona>=1.8->geopandas) (57.4.0)\n",
            "Requirement already satisfied: click>=4.0 in /usr/local/lib/python3.8/dist-packages (from fiona>=1.8->geopandas) (7.1.2)\n",
            "Collecting munch\n",
            "  Downloading munch-2.5.0-py2.py3-none-any.whl (10 kB)\n",
            "Collecting cligj>=0.5\n",
            "  Downloading cligj-0.7.2-py3-none-any.whl (7.1 kB)\n",
            "Requirement already satisfied: pytz>=2017.3 in /usr/local/lib/python3.8/dist-packages (from pandas>=1.0.0->geopandas) (2022.6)\n",
            "Requirement already satisfied: python-dateutil>=2.7.3 in /usr/local/lib/python3.8/dist-packages (from pandas>=1.0.0->geopandas) (2.8.2)\n",
            "Requirement already satisfied: numpy>=1.17.3 in /usr/local/lib/python3.8/dist-packages (from pandas>=1.0.0->geopandas) (1.21.6)\n",
            "Requirement already satisfied: pyparsing!=3.0.5,>=2.0.2 in /usr/local/lib/python3.8/dist-packages (from packaging->geopandas) (3.0.9)\n",
            "Installing collected packages: munch, cligj, click-plugins, pyproj, fiona, geopandas\n",
            "Successfully installed click-plugins-1.1.1 cligj-0.7.2 fiona-1.8.22 geopandas-0.12.2 munch-2.5.0 pyproj-3.4.0\n",
            "Looking in indexes: https://pypi.org/simple, https://us-python.pkg.dev/colab-wheels/public/simple/\n",
            "Collecting hydrofunctions\n",
            "  Downloading hydrofunctions-0.2.3-py3-none-any.whl (40 kB)\n",
            "\u001b[K     |████████████████████████████████| 40 kB 659 kB/s \n",
            "\u001b[?25hRequirement already satisfied: importlib-metadata in /usr/local/lib/python3.8/dist-packages (from hydrofunctions) (4.13.0)\n",
            "Requirement already satisfied: numpy>=1.16.0 in /usr/local/lib/python3.8/dist-packages (from hydrofunctions) (1.21.6)\n",
            "Requirement already satisfied: pyarrow in /usr/local/lib/python3.8/dist-packages (from hydrofunctions) (9.0.0)\n",
            "Requirement already satisfied: pandas in /usr/local/lib/python3.8/dist-packages (from hydrofunctions) (1.3.5)\n",
            "Requirement already satisfied: IPython in /usr/local/lib/python3.8/dist-packages (from hydrofunctions) (7.9.0)\n",
            "Requirement already satisfied: requests in /usr/local/lib/python3.8/dist-packages (from hydrofunctions) (2.23.0)\n",
            "Requirement already satisfied: matplotlib in /usr/local/lib/python3.8/dist-packages (from hydrofunctions) (3.2.2)\n",
            "Requirement already satisfied: zipp>=0.5 in /usr/local/lib/python3.8/dist-packages (from importlib-metadata->hydrofunctions) (3.11.0)\n",
            "Requirement already satisfied: decorator in /usr/local/lib/python3.8/dist-packages (from IPython->hydrofunctions) (4.4.2)\n",
            "Requirement already satisfied: pickleshare in /usr/local/lib/python3.8/dist-packages (from IPython->hydrofunctions) (0.7.5)\n",
            "Collecting jedi>=0.10\n",
            "  Downloading jedi-0.18.2-py2.py3-none-any.whl (1.6 MB)\n",
            "\u001b[K     |████████████████████████████████| 1.6 MB 6.5 MB/s \n",
            "\u001b[?25hRequirement already satisfied: prompt-toolkit<2.1.0,>=2.0.0 in /usr/local/lib/python3.8/dist-packages (from IPython->hydrofunctions) (2.0.10)\n",
            "Requirement already satisfied: pexpect in /usr/local/lib/python3.8/dist-packages (from IPython->hydrofunctions) (4.8.0)\n",
            "Requirement already satisfied: pygments in /usr/local/lib/python3.8/dist-packages (from IPython->hydrofunctions) (2.6.1)\n",
            "Requirement already satisfied: backcall in /usr/local/lib/python3.8/dist-packages (from IPython->hydrofunctions) (0.2.0)\n",
            "Requirement already satisfied: traitlets>=4.2 in /usr/local/lib/python3.8/dist-packages (from IPython->hydrofunctions) (5.6.0)\n",
            "Requirement already satisfied: setuptools>=18.5 in /usr/local/lib/python3.8/dist-packages (from IPython->hydrofunctions) (57.4.0)\n",
            "Requirement already satisfied: parso<0.9.0,>=0.8.0 in /usr/local/lib/python3.8/dist-packages (from jedi>=0.10->IPython->hydrofunctions) (0.8.3)\n",
            "Requirement already satisfied: wcwidth in /usr/local/lib/python3.8/dist-packages (from prompt-toolkit<2.1.0,>=2.0.0->IPython->hydrofunctions) (0.2.5)\n",
            "Requirement already satisfied: six>=1.9.0 in /usr/local/lib/python3.8/dist-packages (from prompt-toolkit<2.1.0,>=2.0.0->IPython->hydrofunctions) (1.15.0)\n",
            "Requirement already satisfied: pyparsing!=2.0.4,!=2.1.2,!=2.1.6,>=2.0.1 in /usr/local/lib/python3.8/dist-packages (from matplotlib->hydrofunctions) (3.0.9)\n",
            "Requirement already satisfied: cycler>=0.10 in /usr/local/lib/python3.8/dist-packages (from matplotlib->hydrofunctions) (0.11.0)\n",
            "Requirement already satisfied: kiwisolver>=1.0.1 in /usr/local/lib/python3.8/dist-packages (from matplotlib->hydrofunctions) (1.4.4)\n",
            "Requirement already satisfied: python-dateutil>=2.1 in /usr/local/lib/python3.8/dist-packages (from matplotlib->hydrofunctions) (2.8.2)\n",
            "Requirement already satisfied: pytz>=2017.3 in /usr/local/lib/python3.8/dist-packages (from pandas->hydrofunctions) (2022.6)\n",
            "Requirement already satisfied: ptyprocess>=0.5 in /usr/local/lib/python3.8/dist-packages (from pexpect->IPython->hydrofunctions) (0.7.0)\n",
            "Requirement already satisfied: urllib3!=1.25.0,!=1.25.1,<1.26,>=1.21.1 in /usr/local/lib/python3.8/dist-packages (from requests->hydrofunctions) (1.24.3)\n",
            "Requirement already satisfied: idna<3,>=2.5 in /usr/local/lib/python3.8/dist-packages (from requests->hydrofunctions) (2.10)\n",
            "Requirement already satisfied: chardet<4,>=3.0.2 in /usr/local/lib/python3.8/dist-packages (from requests->hydrofunctions) (3.0.4)\n",
            "Requirement already satisfied: certifi>=2017.4.17 in /usr/local/lib/python3.8/dist-packages (from requests->hydrofunctions) (2022.9.24)\n",
            "Installing collected packages: jedi, hydrofunctions\n",
            "Successfully installed hydrofunctions-0.2.3 jedi-0.18.2\n"
          ]
        }
      ],
      "source": [
        "import pandas as pd\n",
        "!pip install geopandas\n",
        "import geopandas as gpd\n",
        "import matplotlib.pyplot as plt\n",
        "plt.rcParams.update({'font.size': 14})\n",
        "import numpy as np\n",
        "\n",
        "# this is the package used to query the runoff data\n",
        "!pip install hydrofunctions\n",
        "import hydrofunctions as hf"
      ]
    },
    {
      "cell_type": "markdown",
      "source": [
        "Import basins data"
      ],
      "metadata": {
        "id": "oZMiBijtgSUL"
      }
    },
    {
      "cell_type": "code",
      "source": [
        "basins = gpd.read_file('https://raw.githubusercontent.com/gee-hydro/PML.R/master/validation/PML_validation_sitelist.zip').rename(columns={'RUNOFF_MM_':'RUNOFF_MM_YR'}).to_crs('EPSG:4326')"
      ],
      "metadata": {
        "id": "7bFny9-DgPln"
      },
      "execution_count": 2,
      "outputs": []
    },
    {
      "cell_type": "code",
      "source": [
        "basins.head()"
      ],
      "metadata": {
        "colab": {
          "base_uri": "https://localhost:8080/",
          "height": 206
        },
        "id": "YP1LJSp2gYWN",
        "outputId": "1be21672-6408-44b3-999a-d792c436491b"
      },
      "execution_count": 3,
      "outputs": [
        {
          "output_type": "execute_result",
          "data": {
            "text/plain": [
              "    SITE_NO        SQMI  ABS_DIFF    STAID   LAT_GAGE    LNG_GAGE  \\\n",
              "0  05014500   30.783097  0.003783  5014500  48.799145 -113.656776   \n",
              "1  05083600   52.899793  0.109010  5083600  48.247220  -98.117044   \n",
              "2  05483000   23.343336  0.027361  5483000  42.107481  -94.370246   \n",
              "3  06006000   38.088726  0.028349  6006000  44.615474 -111.629130   \n",
              "4  06036905  261.346882  0.073238  6036905  44.620210 -110.862990   \n",
              "\n",
              "   RUNOFF_MM_YR  PPT_MM_YR  ET_EST_MM_  \\\n",
              "0     966.11150  2086.5420  1120.43050   \n",
              "1      25.11367   478.7508   453.63713   \n",
              "2     214.00000   837.5916   623.59160   \n",
              "3     110.99100   956.7892   845.79820   \n",
              "4     304.26440   955.8911   651.62670   \n",
              "\n",
              "                                            geometry  \n",
              "0  POLYGON ((-113.76216 48.80802, -113.76224 48.8...  \n",
              "1  POLYGON ((-98.26987 48.54921, -98.26986 48.548...  \n",
              "2  POLYGON ((-94.35575 42.18825, -94.35576 42.187...  \n",
              "3  POLYGON ((-111.58197 44.63617, -111.58203 44.6...  \n",
              "4  POLYGON ((-110.69583 44.66260, -110.69589 44.6...  "
            ],
            "text/html": [
              "\n",
              "  <div id=\"df-0a366422-5290-42c2-a3c5-ae9731f2b050\">\n",
              "    <div class=\"colab-df-container\">\n",
              "      <div>\n",
              "<style scoped>\n",
              "    .dataframe tbody tr th:only-of-type {\n",
              "        vertical-align: middle;\n",
              "    }\n",
              "\n",
              "    .dataframe tbody tr th {\n",
              "        vertical-align: top;\n",
              "    }\n",
              "\n",
              "    .dataframe thead th {\n",
              "        text-align: right;\n",
              "    }\n",
              "</style>\n",
              "<table border=\"1\" class=\"dataframe\">\n",
              "  <thead>\n",
              "    <tr style=\"text-align: right;\">\n",
              "      <th></th>\n",
              "      <th>SITE_NO</th>\n",
              "      <th>SQMI</th>\n",
              "      <th>ABS_DIFF</th>\n",
              "      <th>STAID</th>\n",
              "      <th>LAT_GAGE</th>\n",
              "      <th>LNG_GAGE</th>\n",
              "      <th>RUNOFF_MM_YR</th>\n",
              "      <th>PPT_MM_YR</th>\n",
              "      <th>ET_EST_MM_</th>\n",
              "      <th>geometry</th>\n",
              "    </tr>\n",
              "  </thead>\n",
              "  <tbody>\n",
              "    <tr>\n",
              "      <th>0</th>\n",
              "      <td>05014500</td>\n",
              "      <td>30.783097</td>\n",
              "      <td>0.003783</td>\n",
              "      <td>5014500</td>\n",
              "      <td>48.799145</td>\n",
              "      <td>-113.656776</td>\n",
              "      <td>966.11150</td>\n",
              "      <td>2086.5420</td>\n",
              "      <td>1120.43050</td>\n",
              "      <td>POLYGON ((-113.76216 48.80802, -113.76224 48.8...</td>\n",
              "    </tr>\n",
              "    <tr>\n",
              "      <th>1</th>\n",
              "      <td>05083600</td>\n",
              "      <td>52.899793</td>\n",
              "      <td>0.109010</td>\n",
              "      <td>5083600</td>\n",
              "      <td>48.247220</td>\n",
              "      <td>-98.117044</td>\n",
              "      <td>25.11367</td>\n",
              "      <td>478.7508</td>\n",
              "      <td>453.63713</td>\n",
              "      <td>POLYGON ((-98.26987 48.54921, -98.26986 48.548...</td>\n",
              "    </tr>\n",
              "    <tr>\n",
              "      <th>2</th>\n",
              "      <td>05483000</td>\n",
              "      <td>23.343336</td>\n",
              "      <td>0.027361</td>\n",
              "      <td>5483000</td>\n",
              "      <td>42.107481</td>\n",
              "      <td>-94.370246</td>\n",
              "      <td>214.00000</td>\n",
              "      <td>837.5916</td>\n",
              "      <td>623.59160</td>\n",
              "      <td>POLYGON ((-94.35575 42.18825, -94.35576 42.187...</td>\n",
              "    </tr>\n",
              "    <tr>\n",
              "      <th>3</th>\n",
              "      <td>06006000</td>\n",
              "      <td>38.088726</td>\n",
              "      <td>0.028349</td>\n",
              "      <td>6006000</td>\n",
              "      <td>44.615474</td>\n",
              "      <td>-111.629130</td>\n",
              "      <td>110.99100</td>\n",
              "      <td>956.7892</td>\n",
              "      <td>845.79820</td>\n",
              "      <td>POLYGON ((-111.58197 44.63617, -111.58203 44.6...</td>\n",
              "    </tr>\n",
              "    <tr>\n",
              "      <th>4</th>\n",
              "      <td>06036905</td>\n",
              "      <td>261.346882</td>\n",
              "      <td>0.073238</td>\n",
              "      <td>6036905</td>\n",
              "      <td>44.620210</td>\n",
              "      <td>-110.862990</td>\n",
              "      <td>304.26440</td>\n",
              "      <td>955.8911</td>\n",
              "      <td>651.62670</td>\n",
              "      <td>POLYGON ((-110.69583 44.66260, -110.69589 44.6...</td>\n",
              "    </tr>\n",
              "  </tbody>\n",
              "</table>\n",
              "</div>\n",
              "      <button class=\"colab-df-convert\" onclick=\"convertToInteractive('df-0a366422-5290-42c2-a3c5-ae9731f2b050')\"\n",
              "              title=\"Convert this dataframe to an interactive table.\"\n",
              "              style=\"display:none;\">\n",
              "        \n",
              "  <svg xmlns=\"http://www.w3.org/2000/svg\" height=\"24px\"viewBox=\"0 0 24 24\"\n",
              "       width=\"24px\">\n",
              "    <path d=\"M0 0h24v24H0V0z\" fill=\"none\"/>\n",
              "    <path d=\"M18.56 5.44l.94 2.06.94-2.06 2.06-.94-2.06-.94-.94-2.06-.94 2.06-2.06.94zm-11 1L8.5 8.5l.94-2.06 2.06-.94-2.06-.94L8.5 2.5l-.94 2.06-2.06.94zm10 10l.94 2.06.94-2.06 2.06-.94-2.06-.94-.94-2.06-.94 2.06-2.06.94z\"/><path d=\"M17.41 7.96l-1.37-1.37c-.4-.4-.92-.59-1.43-.59-.52 0-1.04.2-1.43.59L10.3 9.45l-7.72 7.72c-.78.78-.78 2.05 0 2.83L4 21.41c.39.39.9.59 1.41.59.51 0 1.02-.2 1.41-.59l7.78-7.78 2.81-2.81c.8-.78.8-2.07 0-2.86zM5.41 20L4 18.59l7.72-7.72 1.47 1.35L5.41 20z\"/>\n",
              "  </svg>\n",
              "      </button>\n",
              "      \n",
              "  <style>\n",
              "    .colab-df-container {\n",
              "      display:flex;\n",
              "      flex-wrap:wrap;\n",
              "      gap: 12px;\n",
              "    }\n",
              "\n",
              "    .colab-df-convert {\n",
              "      background-color: #E8F0FE;\n",
              "      border: none;\n",
              "      border-radius: 50%;\n",
              "      cursor: pointer;\n",
              "      display: none;\n",
              "      fill: #1967D2;\n",
              "      height: 32px;\n",
              "      padding: 0 0 0 0;\n",
              "      width: 32px;\n",
              "    }\n",
              "\n",
              "    .colab-df-convert:hover {\n",
              "      background-color: #E2EBFA;\n",
              "      box-shadow: 0px 1px 2px rgba(60, 64, 67, 0.3), 0px 1px 3px 1px rgba(60, 64, 67, 0.15);\n",
              "      fill: #174EA6;\n",
              "    }\n",
              "\n",
              "    [theme=dark] .colab-df-convert {\n",
              "      background-color: #3B4455;\n",
              "      fill: #D2E3FC;\n",
              "    }\n",
              "\n",
              "    [theme=dark] .colab-df-convert:hover {\n",
              "      background-color: #434B5C;\n",
              "      box-shadow: 0px 1px 3px 1px rgba(0, 0, 0, 0.15);\n",
              "      filter: drop-shadow(0px 1px 2px rgba(0, 0, 0, 0.3));\n",
              "      fill: #FFFFFF;\n",
              "    }\n",
              "  </style>\n",
              "\n",
              "      <script>\n",
              "        const buttonEl =\n",
              "          document.querySelector('#df-0a366422-5290-42c2-a3c5-ae9731f2b050 button.colab-df-convert');\n",
              "        buttonEl.style.display =\n",
              "          google.colab.kernel.accessAllowed ? 'block' : 'none';\n",
              "\n",
              "        async function convertToInteractive(key) {\n",
              "          const element = document.querySelector('#df-0a366422-5290-42c2-a3c5-ae9731f2b050');\n",
              "          const dataTable =\n",
              "            await google.colab.kernel.invokeFunction('convertToInteractive',\n",
              "                                                     [key], {});\n",
              "          if (!dataTable) return;\n",
              "\n",
              "          const docLinkHtml = 'Like what you see? Visit the ' +\n",
              "            '<a target=\"_blank\" href=https://colab.research.google.com/notebooks/data_table.ipynb>data table notebook</a>'\n",
              "            + ' to learn more about interactive tables.';\n",
              "          element.innerHTML = '';\n",
              "          dataTable['output_type'] = 'display_data';\n",
              "          await google.colab.output.renderOutput(dataTable, element);\n",
              "          const docLink = document.createElement('div');\n",
              "          docLink.innerHTML = docLinkHtml;\n",
              "          element.appendChild(docLink);\n",
              "        }\n",
              "      </script>\n",
              "    </div>\n",
              "  </div>\n",
              "  "
            ]
          },
          "metadata": {},
          "execution_count": 3
        }
      ]
    },
    {
      "cell_type": "markdown",
      "source": [
        "Use hydrofunctions to query USGS streamflow data through NWIS"
      ],
      "metadata": {
        "id": "cPqny71Rgd7p"
      }
    },
    {
      "cell_type": "code",
      "source": [
        "runoff_data = hf.NWIS( # function to query NWIS database\n",
        "                      basins.SITE_NO.values[0], # site id number\n",
        "                      service = 'dv', # can choose 'dv' for daily data or 'iv' for 15 min (instantaneous) data\n",
        "                      start_date = '1980-10-01', # start date for getting data\n",
        "                      end_date = '2020-10-01', # end date for getting data\n",
        "                      parameterCd = '00060', # parameter code--'00060' is streamflow in ft3/s, see all here: https://help.waterdata.usgs.gov/codes-and-parameters/parameter\n",
        ")\n",
        "\n",
        "runoff_data = runoff_data.df() # turns the output into a pandas dataframe"
      ],
      "metadata": {
        "colab": {
          "base_uri": "https://localhost:8080/"
        },
        "id": "BCcgEz1-gUP7",
        "outputId": "4ae77abb-0a49-44ae-bc24-a0607b503455"
      },
      "execution_count": 4,
      "outputs": [
        {
          "output_type": "stream",
          "name": "stdout",
          "text": [
            "Requesting data from https://waterservices.usgs.gov/nwis/dv/?...\rRequested data from https://waterservices.usgs.gov/nwis/dv/?format=json%2C1.1&sites=05014500&parameterCd=00060&startDT=1980-10-01&endDT=2020-10-01\n"
          ]
        }
      ]
    },
    {
      "cell_type": "code",
      "source": [
        "runoff_data.head()\n",
        "# the first column is the data, and the second column is quality parameters"
      ],
      "metadata": {
        "colab": {
          "base_uri": "https://localhost:8080/",
          "height": 237
        },
        "id": "qe8JwNIOhZ0g",
        "outputId": "81f18428-95e9-4773-a99f-d4f2cc69a377"
      },
      "execution_count": 6,
      "outputs": [
        {
          "output_type": "execute_result",
          "data": {
            "text/plain": [
              "                           USGS:05014500:00060:00003  \\\n",
              "datetimeUTC                                            \n",
              "1980-10-01 00:00:00+00:00                      101.0   \n",
              "1980-10-02 00:00:00+00:00                       94.0   \n",
              "1980-10-03 00:00:00+00:00                       87.0   \n",
              "1980-10-04 00:00:00+00:00                       80.0   \n",
              "1980-10-05 00:00:00+00:00                       75.0   \n",
              "\n",
              "                          USGS:05014500:00060:00003_qualifiers  \n",
              "datetimeUTC                                                     \n",
              "1980-10-01 00:00:00+00:00                                    A  \n",
              "1980-10-02 00:00:00+00:00                                    A  \n",
              "1980-10-03 00:00:00+00:00                                    A  \n",
              "1980-10-04 00:00:00+00:00                                    A  \n",
              "1980-10-05 00:00:00+00:00                                    A  "
            ],
            "text/html": [
              "\n",
              "  <div id=\"df-b53c9800-022b-49b6-a780-e6795324440e\">\n",
              "    <div class=\"colab-df-container\">\n",
              "      <div>\n",
              "<style scoped>\n",
              "    .dataframe tbody tr th:only-of-type {\n",
              "        vertical-align: middle;\n",
              "    }\n",
              "\n",
              "    .dataframe tbody tr th {\n",
              "        vertical-align: top;\n",
              "    }\n",
              "\n",
              "    .dataframe thead th {\n",
              "        text-align: right;\n",
              "    }\n",
              "</style>\n",
              "<table border=\"1\" class=\"dataframe\">\n",
              "  <thead>\n",
              "    <tr style=\"text-align: right;\">\n",
              "      <th></th>\n",
              "      <th>USGS:05014500:00060:00003</th>\n",
              "      <th>USGS:05014500:00060:00003_qualifiers</th>\n",
              "    </tr>\n",
              "    <tr>\n",
              "      <th>datetimeUTC</th>\n",
              "      <th></th>\n",
              "      <th></th>\n",
              "    </tr>\n",
              "  </thead>\n",
              "  <tbody>\n",
              "    <tr>\n",
              "      <th>1980-10-01 00:00:00+00:00</th>\n",
              "      <td>101.0</td>\n",
              "      <td>A</td>\n",
              "    </tr>\n",
              "    <tr>\n",
              "      <th>1980-10-02 00:00:00+00:00</th>\n",
              "      <td>94.0</td>\n",
              "      <td>A</td>\n",
              "    </tr>\n",
              "    <tr>\n",
              "      <th>1980-10-03 00:00:00+00:00</th>\n",
              "      <td>87.0</td>\n",
              "      <td>A</td>\n",
              "    </tr>\n",
              "    <tr>\n",
              "      <th>1980-10-04 00:00:00+00:00</th>\n",
              "      <td>80.0</td>\n",
              "      <td>A</td>\n",
              "    </tr>\n",
              "    <tr>\n",
              "      <th>1980-10-05 00:00:00+00:00</th>\n",
              "      <td>75.0</td>\n",
              "      <td>A</td>\n",
              "    </tr>\n",
              "  </tbody>\n",
              "</table>\n",
              "</div>\n",
              "      <button class=\"colab-df-convert\" onclick=\"convertToInteractive('df-b53c9800-022b-49b6-a780-e6795324440e')\"\n",
              "              title=\"Convert this dataframe to an interactive table.\"\n",
              "              style=\"display:none;\">\n",
              "        \n",
              "  <svg xmlns=\"http://www.w3.org/2000/svg\" height=\"24px\"viewBox=\"0 0 24 24\"\n",
              "       width=\"24px\">\n",
              "    <path d=\"M0 0h24v24H0V0z\" fill=\"none\"/>\n",
              "    <path d=\"M18.56 5.44l.94 2.06.94-2.06 2.06-.94-2.06-.94-.94-2.06-.94 2.06-2.06.94zm-11 1L8.5 8.5l.94-2.06 2.06-.94-2.06-.94L8.5 2.5l-.94 2.06-2.06.94zm10 10l.94 2.06.94-2.06 2.06-.94-2.06-.94-.94-2.06-.94 2.06-2.06.94z\"/><path d=\"M17.41 7.96l-1.37-1.37c-.4-.4-.92-.59-1.43-.59-.52 0-1.04.2-1.43.59L10.3 9.45l-7.72 7.72c-.78.78-.78 2.05 0 2.83L4 21.41c.39.39.9.59 1.41.59.51 0 1.02-.2 1.41-.59l7.78-7.78 2.81-2.81c.8-.78.8-2.07 0-2.86zM5.41 20L4 18.59l7.72-7.72 1.47 1.35L5.41 20z\"/>\n",
              "  </svg>\n",
              "      </button>\n",
              "      \n",
              "  <style>\n",
              "    .colab-df-container {\n",
              "      display:flex;\n",
              "      flex-wrap:wrap;\n",
              "      gap: 12px;\n",
              "    }\n",
              "\n",
              "    .colab-df-convert {\n",
              "      background-color: #E8F0FE;\n",
              "      border: none;\n",
              "      border-radius: 50%;\n",
              "      cursor: pointer;\n",
              "      display: none;\n",
              "      fill: #1967D2;\n",
              "      height: 32px;\n",
              "      padding: 0 0 0 0;\n",
              "      width: 32px;\n",
              "    }\n",
              "\n",
              "    .colab-df-convert:hover {\n",
              "      background-color: #E2EBFA;\n",
              "      box-shadow: 0px 1px 2px rgba(60, 64, 67, 0.3), 0px 1px 3px 1px rgba(60, 64, 67, 0.15);\n",
              "      fill: #174EA6;\n",
              "    }\n",
              "\n",
              "    [theme=dark] .colab-df-convert {\n",
              "      background-color: #3B4455;\n",
              "      fill: #D2E3FC;\n",
              "    }\n",
              "\n",
              "    [theme=dark] .colab-df-convert:hover {\n",
              "      background-color: #434B5C;\n",
              "      box-shadow: 0px 1px 3px 1px rgba(0, 0, 0, 0.15);\n",
              "      filter: drop-shadow(0px 1px 2px rgba(0, 0, 0, 0.3));\n",
              "      fill: #FFFFFF;\n",
              "    }\n",
              "  </style>\n",
              "\n",
              "      <script>\n",
              "        const buttonEl =\n",
              "          document.querySelector('#df-b53c9800-022b-49b6-a780-e6795324440e button.colab-df-convert');\n",
              "        buttonEl.style.display =\n",
              "          google.colab.kernel.accessAllowed ? 'block' : 'none';\n",
              "\n",
              "        async function convertToInteractive(key) {\n",
              "          const element = document.querySelector('#df-b53c9800-022b-49b6-a780-e6795324440e');\n",
              "          const dataTable =\n",
              "            await google.colab.kernel.invokeFunction('convertToInteractive',\n",
              "                                                     [key], {});\n",
              "          if (!dataTable) return;\n",
              "\n",
              "          const docLinkHtml = 'Like what you see? Visit the ' +\n",
              "            '<a target=\"_blank\" href=https://colab.research.google.com/notebooks/data_table.ipynb>data table notebook</a>'\n",
              "            + ' to learn more about interactive tables.';\n",
              "          element.innerHTML = '';\n",
              "          dataTable['output_type'] = 'display_data';\n",
              "          await google.colab.output.renderOutput(dataTable, element);\n",
              "          const docLink = document.createElement('div');\n",
              "          docLink.innerHTML = docLinkHtml;\n",
              "          element.appendChild(docLink);\n",
              "        }\n",
              "      </script>\n",
              "    </div>\n",
              "  </div>\n",
              "  "
            ]
          },
          "metadata": {},
          "execution_count": 6
        }
      ]
    },
    {
      "cell_type": "code",
      "source": [
        "# rename columns to something sensible\n",
        "cols = runoff_data.columns\n",
        "runoff_data.rename(columns={cols[0]:'discharge_ft3_s',\n",
        "                            cols[1]:'qualifiers'}, \n",
        "                   inplace=True)\n",
        "\n",
        "# use basin area to convert to mm/day\n",
        "basin_area = basins.SQMI.values[0]*2.58999 # basin area in km2\n",
        "\n",
        "runoff_data['discharge_mm_per_day'] = runoff_data.discharge_ft3_s*2.83168e-11/basin_area*10e6*3600*24"
      ],
      "metadata": {
        "id": "bXycv-Ldhd1C"
      },
      "execution_count": 11,
      "outputs": []
    },
    {
      "cell_type": "code",
      "source": [
        "plt.rcParams.update({'font.size': 22})"
      ],
      "metadata": {
        "id": "1AskCzjCjLCi"
      },
      "execution_count": 26,
      "outputs": []
    },
    {
      "cell_type": "code",
      "source": [
        "%matplotlib inline\n",
        "fig,ax = plt.subplots(1,figsize = (15,8))\n",
        "runoff_data.discharge_mm_per_day.plot(ax=ax)\n",
        "ax.set_xlabel('')\n",
        "ax.set_ylabel('Streamflow (mm/day)')"
      ],
      "metadata": {
        "colab": {
          "base_uri": "https://localhost:8080/",
          "height": 500
        },
        "id": "uGwOhwMEhqLP",
        "outputId": "31d728dc-0812-41e5-8b8c-b95cf9ab5911"
      },
      "execution_count": 28,
      "outputs": [
        {
          "output_type": "execute_result",
          "data": {
            "text/plain": [
              "Text(0, 0.5, 'Streamflow (mm/day)')"
            ]
          },
          "metadata": {},
          "execution_count": 28
        },
        {
          "output_type": "display_data",
          "data": {
            "text/plain": [
              "<Figure size 1080x576 with 1 Axes>"
            ],
            "image/png": "[encoded data removed]"
          },
          "metadata": {
            "needs_background": "light"
          }
        }
      ]
    },
    {
      "cell_type": "code",
      "source": [],
      "metadata": {
        "id": "IRcSUIBrjETU"
      },
      "execution_count": null,
      "outputs": []
    }
  ]
}